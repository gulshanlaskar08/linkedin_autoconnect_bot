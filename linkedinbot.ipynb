{
 "cells": [
  {
   "cell_type": "code",
   "execution_count": 15,
   "id": "e3c4992e-13d7-45d3-8ce7-aa29905188ad",
   "metadata": {},
   "outputs": [],
   "source": [
    "from selenium import webdriver\n",
    "from webdriver_manager.chrome import ChromeDriverManager\n",
    "from selenium.webdriver.common.keys import Keys\n",
    "import csv, os.path, time\n",
    "import pandas as pd"
   ]
  },
  {
   "cell_type": "code",
   "execution_count": 33,
   "id": "fd02421a-f1f2-4a01-8b24-062cc7960de1",
   "metadata": {},
   "outputs": [],
   "source": [
    "plinks = pd.read_csv('id_list.csv')\n",
    "file_name = 'connections.csv'\n",
    "# linkedin_username = 'xzxy4371@gmail.com'\n",
    "# linkedin_password = 'Breakingbad'\n",
    "linkedin_username = 'gulshanlaskar97@gmail.com'\n",
    "linkedin_password = 'Gulshan@0818'\n",
    "#keywords = 'DevOps,Linux,Python,AWS'\n",
    "custom_message = \"\"\" hello hi there!!!!\"\"\"\n",
    "till_page = 1"
   ]
  },
  {
   "cell_type": "code",
   "execution_count": 34,
   "id": "3066272d-b23b-448a-be43-e6cd90726f4d",
   "metadata": {},
   "outputs": [
    {
     "data": {
      "text/html": [
       "<div>\n",
       "<style scoped>\n",
       "    .dataframe tbody tr th:only-of-type {\n",
       "        vertical-align: middle;\n",
       "    }\n",
       "\n",
       "    .dataframe tbody tr th {\n",
       "        vertical-align: top;\n",
       "    }\n",
       "\n",
       "    .dataframe thead th {\n",
       "        text-align: right;\n",
       "    }\n",
       "</style>\n",
       "<table border=\"1\" class=\"dataframe\">\n",
       "  <thead>\n",
       "    <tr style=\"text-align: right;\">\n",
       "      <th></th>\n",
       "      <th>id_no</th>\n",
       "      <th>profilelink</th>\n",
       "    </tr>\n",
       "  </thead>\n",
       "  <tbody>\n",
       "    <tr>\n",
       "      <th>0</th>\n",
       "      <td>1</td>\n",
       "      <td>https://www.linkedin.com/in/usha-diwakar-0586a...</td>\n",
       "    </tr>\n",
       "    <tr>\n",
       "      <th>1</th>\n",
       "      <td>2</td>\n",
       "      <td>https://www.linkedin.com/in/subhadeeppaul1/</td>\n",
       "    </tr>\n",
       "    <tr>\n",
       "      <th>2</th>\n",
       "      <td>3</td>\n",
       "      <td>https://www.linkedin.com/in/avishek-gupta-4301...</td>\n",
       "    </tr>\n",
       "    <tr>\n",
       "      <th>3</th>\n",
       "      <td>4</td>\n",
       "      <td>https://www.linkedin.com/in/lucky-gogoi-2388aa...</td>\n",
       "    </tr>\n",
       "    <tr>\n",
       "      <th>4</th>\n",
       "      <td>5</td>\n",
       "      <td>https://www.linkedin.com/in/shamim-khan-402343b1/</td>\n",
       "    </tr>\n",
       "  </tbody>\n",
       "</table>\n",
       "</div>"
      ],
      "text/plain": [
       "   id_no                                        profilelink\n",
       "0      1  https://www.linkedin.com/in/usha-diwakar-0586a...\n",
       "1      2        https://www.linkedin.com/in/subhadeeppaul1/\n",
       "2      3  https://www.linkedin.com/in/avishek-gupta-4301...\n",
       "3      4  https://www.linkedin.com/in/lucky-gogoi-2388aa...\n",
       "4      5  https://www.linkedin.com/in/shamim-khan-402343b1/"
      ]
     },
     "execution_count": 34,
     "metadata": {},
     "output_type": "execute_result"
    }
   ],
   "source": [
    "plinks"
   ]
  },
  {
   "cell_type": "code",
   "execution_count": 69,
   "id": "e7e72946-40ce-45e8-9de1-c88caaac60cf",
   "metadata": {},
   "outputs": [],
   "source": [
    "def search_and_send_request_with_note(plinks, custom_message, till_page):\n",
    "    first_column = list(plinks[\"profilelink\"] )\n",
    "    for i in first_column:\n",
    "        browser.get(i)\n",
    "        time.sleep(2)\n",
    "        # We can check if that xpath exists which means those people preferred to\n",
    "        # be connected, else, we can simply follow them.\n",
    "        #xpath=\"//main[@id='main']/div[1]/section[1]/div[2]/div[3]/div[1]/button[1]/span[1]\"\n",
    "        all_buttons = browser.find_elements_by_tag_name(\"button\")\n",
    "        connect_buttons = browser.find_element_by_xpath(\"//button[@class='artdeco-button artdeco-button--2 artdeco-button--primary ember-view pvs-profile-actions__action']\")\n",
    "        #connect_buttons = [btn for btn in all_buttons if btn.text == \"Connect\"]\n",
    "        \n",
    "        x = browser.find_element_by_xpath(\"span[text()='Connect']\")\n",
    "        x.click()\n",
    "        #connect_buttons[0].click()\n",
    "        #print(all_buttons)\n",
    "        \n",
    "        \n",
    "        \n",
    "        for btn in connect_buttons:\n",
    "            browser.execute_script(\"argument[0].click();\",btn)\n",
    "            #more_buttons = browser.find_element_by_xpath(\"//button[@artdeco-button artdeco-button--2 artdeco-button--primary ember-view pvs-profile-actions__action]\")\n",
    "            #browser.execute_script(\"argument[0].click();\",connect_button)\n",
    "            time.sleep(2)\n",
    "            add_note = browser.find_element_by_css_selector(\"//button[@aria-label='Add a note']\")\n",
    "            browser.execute_script(\"argument[0].click();\",add_note)  \n",
    "            time.sleep(2)\n",
    "            if len(custom_message) > 0:\n",
    "                add_note.send_keys(custom_message) \n",
    "                time.sleep(2)\n",
    "            send = browser.find_element_by_xpath(\"//button[@aria-label='Send now']\")\n",
    "            browser.execute_script(\"argument[0].click();\",send)     \n",
    "            time.sleep(2)\n",
    "            \n",
    "            #some prefer follow request than connect request\n",
    "            follow = browser.find_element_by_xpath(\"//button[@aria-label='Follow']\")\n",
    "            browser.execute_script(\"argument[0].click();\",follow)\n",
    "            time.sleep(2)                                    \n",
    "                                                 \n",
    "                                                 \n",
    "                                                 \n",
    "                                                 \n",
    "                                                 \n",
    "                                                 \n",
    "                                                 \n",
    "        \n",
    "    #     if check_exists_by_xpath(browser,xpath):\n",
    "    #         browser.find_element(By.XPATH,xpath).click()\n",
    "    #         if check_exists(By.ID,browser,\"custom-message\"):\n",
    "    #             browser.find_element(By.ID,\"custom-message\").send_keys(text)\n",
    "    #             browser.find_element(By.CSS_SELECTOR,\"[aria-label='Send now']\").click()\n",
    "    #     else:\n",
    "    #         browser.find_element(By.CSS_SELECTOR,\"[aria-label='More actions']\").click()\n",
    "    #         if check_exists(By.CSS_SELECTOR,browser,\"[data-control-name='follow']\"):\n",
    "    #             browser.find_element(By.CSS_SELECTOR,\"[data-control-name='follow']\").click()\n",
    "    # sleep(3)\n",
    "    "
   ]
  },
  {
   "cell_type": "code",
   "execution_count": 36,
   "id": "d3855716-9d28-4036-8900-38e52b425348",
   "metadata": {},
   "outputs": [
    {
     "name": "stderr",
     "output_type": "stream",
     "text": [
      "\n",
      "\n",
      "====== WebDriver manager ======\n",
      "Current google-chrome version is 98.0.4758\n",
      "Get LATEST driver version for 98.0.4758\n",
      "Driver [C:\\Users\\Gulshan\\.wdm\\drivers\\chromedriver\\win32\\98.0.4758.102\\chromedriver.exe] found in cache\n"
     ]
    }
   ],
   "source": [
    "url = \"http://linkedin.com/\"\n",
    "# Login\n",
    "browser= webdriver.Chrome(ChromeDriverManager().install())\n",
    "browser.get('https://www.linkedin.com/login')\n",
    "browser.find_element_by_id('username').send_keys(linkedin_username)\n",
    "browser.find_element_by_id('password').send_keys(linkedin_password)\n",
    "browser.find_element_by_xpath('//*[@type=\"submit\"]').click()\n",
    "time.sleep(5)\n",
    "browser.get(url)"
   ]
  },
  {
   "cell_type": "code",
   "execution_count": 70,
   "id": "2f87d470-eb0a-42cb-99cb-3d73a16e1aed",
   "metadata": {},
   "outputs": [
    {
     "ename": "NoSuchElementException",
     "evalue": "Message: no such element: Unable to locate element: {\"method\":\"xpath\",\"selector\":\"span[text()='Connect']\"}\n  (Session info: chrome=98.0.4758.102)\n",
     "output_type": "error",
     "traceback": [
      "\u001b[1;31m---------------------------------------------------------------------------\u001b[0m",
      "\u001b[1;31mNoSuchElementException\u001b[0m                    Traceback (most recent call last)",
      "\u001b[1;32m~\\AppData\\Local\\Temp/ipykernel_22812/2271698853.py\u001b[0m in \u001b[0;36m<module>\u001b[1;34m\u001b[0m\n\u001b[1;32m----> 1\u001b[1;33m \u001b[0msearch_and_send_request_with_note\u001b[0m\u001b[1;33m(\u001b[0m\u001b[0mplinks\u001b[0m\u001b[1;33m,\u001b[0m \u001b[0mcustom_message\u001b[0m\u001b[1;33m,\u001b[0m \u001b[0mtill_page\u001b[0m\u001b[1;33m)\u001b[0m\u001b[1;33m\u001b[0m\u001b[1;33m\u001b[0m\u001b[0m\n\u001b[0m",
      "\u001b[1;32m~\\AppData\\Local\\Temp/ipykernel_22812/3750689025.py\u001b[0m in \u001b[0;36msearch_and_send_request_with_note\u001b[1;34m(plinks, custom_message, till_page)\u001b[0m\n\u001b[0;32m     11\u001b[0m         \u001b[1;31m#connect_buttons = [btn for btn in all_buttons if btn.text == \"Connect\"]\u001b[0m\u001b[1;33m\u001b[0m\u001b[1;33m\u001b[0m\u001b[1;33m\u001b[0m\u001b[0m\n\u001b[0;32m     12\u001b[0m \u001b[1;33m\u001b[0m\u001b[0m\n\u001b[1;32m---> 13\u001b[1;33m         \u001b[0mx\u001b[0m \u001b[1;33m=\u001b[0m \u001b[0mbrowser\u001b[0m\u001b[1;33m.\u001b[0m\u001b[0mfind_element_by_xpath\u001b[0m\u001b[1;33m(\u001b[0m\u001b[1;34m\"span[text()='Connect']\"\u001b[0m\u001b[1;33m)\u001b[0m\u001b[1;33m\u001b[0m\u001b[1;33m\u001b[0m\u001b[0m\n\u001b[0m\u001b[0;32m     14\u001b[0m         \u001b[0mx\u001b[0m\u001b[1;33m.\u001b[0m\u001b[0mclick\u001b[0m\u001b[1;33m(\u001b[0m\u001b[1;33m)\u001b[0m\u001b[1;33m\u001b[0m\u001b[1;33m\u001b[0m\u001b[0m\n\u001b[0;32m     15\u001b[0m         \u001b[1;31m#connect_buttons[0].click()\u001b[0m\u001b[1;33m\u001b[0m\u001b[1;33m\u001b[0m\u001b[1;33m\u001b[0m\u001b[0m\n",
      "\u001b[1;32m~\\Anaconda3\\lib\\site-packages\\selenium\\webdriver\\remote\\webdriver.py\u001b[0m in \u001b[0;36mfind_element_by_xpath\u001b[1;34m(self, xpath)\u001b[0m\n\u001b[0;32m    392\u001b[0m             \u001b[0melement\u001b[0m \u001b[1;33m=\u001b[0m \u001b[0mdriver\u001b[0m\u001b[1;33m.\u001b[0m\u001b[0mfind_element_by_xpath\u001b[0m\u001b[1;33m(\u001b[0m\u001b[1;34m'//div/td[1]'\u001b[0m\u001b[1;33m)\u001b[0m\u001b[1;33m\u001b[0m\u001b[1;33m\u001b[0m\u001b[0m\n\u001b[0;32m    393\u001b[0m         \"\"\"\n\u001b[1;32m--> 394\u001b[1;33m         \u001b[1;32mreturn\u001b[0m \u001b[0mself\u001b[0m\u001b[1;33m.\u001b[0m\u001b[0mfind_element\u001b[0m\u001b[1;33m(\u001b[0m\u001b[0mby\u001b[0m\u001b[1;33m=\u001b[0m\u001b[0mBy\u001b[0m\u001b[1;33m.\u001b[0m\u001b[0mXPATH\u001b[0m\u001b[1;33m,\u001b[0m \u001b[0mvalue\u001b[0m\u001b[1;33m=\u001b[0m\u001b[0mxpath\u001b[0m\u001b[1;33m)\u001b[0m\u001b[1;33m\u001b[0m\u001b[1;33m\u001b[0m\u001b[0m\n\u001b[0m\u001b[0;32m    395\u001b[0m \u001b[1;33m\u001b[0m\u001b[0m\n\u001b[0;32m    396\u001b[0m     \u001b[1;32mdef\u001b[0m \u001b[0mfind_elements_by_xpath\u001b[0m\u001b[1;33m(\u001b[0m\u001b[0mself\u001b[0m\u001b[1;33m,\u001b[0m \u001b[0mxpath\u001b[0m\u001b[1;33m)\u001b[0m\u001b[1;33m:\u001b[0m\u001b[1;33m\u001b[0m\u001b[1;33m\u001b[0m\u001b[0m\n",
      "\u001b[1;32m~\\Anaconda3\\lib\\site-packages\\selenium\\webdriver\\remote\\webdriver.py\u001b[0m in \u001b[0;36mfind_element\u001b[1;34m(self, by, value)\u001b[0m\n\u001b[0;32m    976\u001b[0m         return self.execute(Command.FIND_ELEMENT, {\n\u001b[0;32m    977\u001b[0m             \u001b[1;34m'using'\u001b[0m\u001b[1;33m:\u001b[0m \u001b[0mby\u001b[0m\u001b[1;33m,\u001b[0m\u001b[1;33m\u001b[0m\u001b[1;33m\u001b[0m\u001b[0m\n\u001b[1;32m--> 978\u001b[1;33m             'value': value})['value']\n\u001b[0m\u001b[0;32m    979\u001b[0m \u001b[1;33m\u001b[0m\u001b[0m\n\u001b[0;32m    980\u001b[0m     \u001b[1;32mdef\u001b[0m \u001b[0mfind_elements\u001b[0m\u001b[1;33m(\u001b[0m\u001b[0mself\u001b[0m\u001b[1;33m,\u001b[0m \u001b[0mby\u001b[0m\u001b[1;33m=\u001b[0m\u001b[0mBy\u001b[0m\u001b[1;33m.\u001b[0m\u001b[0mID\u001b[0m\u001b[1;33m,\u001b[0m \u001b[0mvalue\u001b[0m\u001b[1;33m=\u001b[0m\u001b[1;32mNone\u001b[0m\u001b[1;33m)\u001b[0m\u001b[1;33m:\u001b[0m\u001b[1;33m\u001b[0m\u001b[1;33m\u001b[0m\u001b[0m\n",
      "\u001b[1;32m~\\Anaconda3\\lib\\site-packages\\selenium\\webdriver\\remote\\webdriver.py\u001b[0m in \u001b[0;36mexecute\u001b[1;34m(self, driver_command, params)\u001b[0m\n\u001b[0;32m    319\u001b[0m         \u001b[0mresponse\u001b[0m \u001b[1;33m=\u001b[0m \u001b[0mself\u001b[0m\u001b[1;33m.\u001b[0m\u001b[0mcommand_executor\u001b[0m\u001b[1;33m.\u001b[0m\u001b[0mexecute\u001b[0m\u001b[1;33m(\u001b[0m\u001b[0mdriver_command\u001b[0m\u001b[1;33m,\u001b[0m \u001b[0mparams\u001b[0m\u001b[1;33m)\u001b[0m\u001b[1;33m\u001b[0m\u001b[1;33m\u001b[0m\u001b[0m\n\u001b[0;32m    320\u001b[0m         \u001b[1;32mif\u001b[0m \u001b[0mresponse\u001b[0m\u001b[1;33m:\u001b[0m\u001b[1;33m\u001b[0m\u001b[1;33m\u001b[0m\u001b[0m\n\u001b[1;32m--> 321\u001b[1;33m             \u001b[0mself\u001b[0m\u001b[1;33m.\u001b[0m\u001b[0merror_handler\u001b[0m\u001b[1;33m.\u001b[0m\u001b[0mcheck_response\u001b[0m\u001b[1;33m(\u001b[0m\u001b[0mresponse\u001b[0m\u001b[1;33m)\u001b[0m\u001b[1;33m\u001b[0m\u001b[1;33m\u001b[0m\u001b[0m\n\u001b[0m\u001b[0;32m    322\u001b[0m             response['value'] = self._unwrap_value(\n\u001b[0;32m    323\u001b[0m                 response.get('value', None))\n",
      "\u001b[1;32m~\\Anaconda3\\lib\\site-packages\\selenium\\webdriver\\remote\\errorhandler.py\u001b[0m in \u001b[0;36mcheck_response\u001b[1;34m(self, response)\u001b[0m\n\u001b[0;32m    240\u001b[0m                 \u001b[0malert_text\u001b[0m \u001b[1;33m=\u001b[0m \u001b[0mvalue\u001b[0m\u001b[1;33m[\u001b[0m\u001b[1;34m'alert'\u001b[0m\u001b[1;33m]\u001b[0m\u001b[1;33m.\u001b[0m\u001b[0mget\u001b[0m\u001b[1;33m(\u001b[0m\u001b[1;34m'text'\u001b[0m\u001b[1;33m)\u001b[0m\u001b[1;33m\u001b[0m\u001b[1;33m\u001b[0m\u001b[0m\n\u001b[0;32m    241\u001b[0m             \u001b[1;32mraise\u001b[0m \u001b[0mexception_class\u001b[0m\u001b[1;33m(\u001b[0m\u001b[0mmessage\u001b[0m\u001b[1;33m,\u001b[0m \u001b[0mscreen\u001b[0m\u001b[1;33m,\u001b[0m \u001b[0mstacktrace\u001b[0m\u001b[1;33m,\u001b[0m \u001b[0malert_text\u001b[0m\u001b[1;33m)\u001b[0m\u001b[1;33m\u001b[0m\u001b[1;33m\u001b[0m\u001b[0m\n\u001b[1;32m--> 242\u001b[1;33m         \u001b[1;32mraise\u001b[0m \u001b[0mexception_class\u001b[0m\u001b[1;33m(\u001b[0m\u001b[0mmessage\u001b[0m\u001b[1;33m,\u001b[0m \u001b[0mscreen\u001b[0m\u001b[1;33m,\u001b[0m \u001b[0mstacktrace\u001b[0m\u001b[1;33m)\u001b[0m\u001b[1;33m\u001b[0m\u001b[1;33m\u001b[0m\u001b[0m\n\u001b[0m\u001b[0;32m    243\u001b[0m \u001b[1;33m\u001b[0m\u001b[0m\n\u001b[0;32m    244\u001b[0m     \u001b[1;32mdef\u001b[0m \u001b[0m_value_or_default\u001b[0m\u001b[1;33m(\u001b[0m\u001b[0mself\u001b[0m\u001b[1;33m,\u001b[0m \u001b[0mobj\u001b[0m\u001b[1;33m,\u001b[0m \u001b[0mkey\u001b[0m\u001b[1;33m,\u001b[0m \u001b[0mdefault\u001b[0m\u001b[1;33m)\u001b[0m\u001b[1;33m:\u001b[0m\u001b[1;33m\u001b[0m\u001b[1;33m\u001b[0m\u001b[0m\n",
      "\u001b[1;31mNoSuchElementException\u001b[0m: Message: no such element: Unable to locate element: {\"method\":\"xpath\",\"selector\":\"span[text()='Connect']\"}\n  (Session info: chrome=98.0.4758.102)\n"
     ]
    }
   ],
   "source": [
    "search_and_send_request_with_note(plinks, custom_message, till_page)"
   ]
  },
  {
   "cell_type": "code",
   "execution_count": null,
   "id": "c3c5f6e8-f7d1-4446-b94c-3dc69a441262",
   "metadata": {},
   "outputs": [],
   "source": [
    "browser.quit()"
   ]
  },
  {
   "cell_type": "code",
   "execution_count": null,
   "id": "f82ef04b-4a13-476d-a80a-eace93ede818",
   "metadata": {},
   "outputs": [],
   "source": []
  },
  {
   "cell_type": "markdown",
   "id": "5a116af7-71ff-4bf1-83bf-a1f204cc60d0",
   "metadata": {},
   "source": [
    "#testing part with keywords "
   ]
  },
  {
   "cell_type": "code",
   "execution_count": 4,
   "id": "a611d58e-e8e0-412d-8a7b-1fdd52f5bad5",
   "metadata": {},
   "outputs": [],
   "source": [
    "# Functions \n",
    "def search_and_send_request(keywords, till_page, writer):\n",
    "    for page in range(1, till_page + 1):\n",
    "        print('\\nINFO: Checking on page %s' % (page))\n",
    "        query_url = 'https://www.linkedin.com/search/results/people/?keywords=' + keywords + '&origin=GLOBAL_SEARCH_HEADER&page=' + str(page)\n",
    "        driver.get(query_url)\n",
    "        time.sleep(5)\n",
    "        html = driver.find_element_by_tag_name('html')\n",
    "        html.send_keys(Keys.END)\n",
    "        time.sleep(5)\n",
    "        linkedin_urls = driver.find_elements_by_class_name('reusable-search__result-container')\n",
    "        print('INFO: %s connections found on page %s' % (len(linkedin_urls), page))\n",
    "        for index, result in enumerate(linkedin_urls, start=1):\n",
    "            text = result.text.split('\\n')[0]\n",
    "            connection_action = result.find_elements_by_class_name('artdeco-button__text')\n",
    "            if connection_action:\n",
    "                connection = connection_action[0]\n",
    "            else: \n",
    "                print(\"%s ) CANT: %s\" % (index, text))\n",
    "                continue\n",
    "            if connection.text == 'Connect':\n",
    "                try:\n",
    "                    coordinates = connection.location_once_scrolled_into_view # returns dict of X, Y coordinates\n",
    "                    driver.execute_script(\"window.scrollTo(%s, %s);\" % (coordinates['x'], coordinates['y']))\n",
    "                    time.sleep(5)\n",
    "                    connection.click()\n",
    "                    time.sleep(5)\n",
    "                    if driver.find_elements_by_class_name('artdeco-button--primary')[0].is_enabled():\n",
    "                        driver.find_elements_by_class_name('artdeco-button--primary')[0].click()\n",
    "                        writer.writerow([text])\n",
    "                        print(\"%s ) SENT: %s\" % (index, text))\n",
    "                    else:\n",
    "                        driver.find_elements_by_class_name('artdeco-modal__dismiss')[0].click()\n",
    "                        print(\"%s ) CANT: %s\" % (index, text))\n",
    "                except Exception as e:\n",
    "                    print('%s ) ERROR: %s' % (index, text))\n",
    "                time.sleep(5)\n",
    "            elif connection.text == 'Pending':\n",
    "                    print(\"%s ) PENDING: %s\" % (index, text))\n",
    "            else:\n",
    "                    if text : print(\"%s ) CANT: %s\" % (index, text))\n",
    "                    else: print(\"%s ) ERROR: You might have reached limit\" % (index))\n"
   ]
  },
  {
   "cell_type": "code",
   "execution_count": 11,
   "id": "dc520eb5-e976-4427-9987-c98c73ae607a",
   "metadata": {},
   "outputs": [
    {
     "name": "stderr",
     "output_type": "stream",
     "text": [
      "\n",
      "\n",
      "====== WebDriver manager ======\n",
      "Current google-chrome version is 98.0.4758\n",
      "Get LATEST driver version for 98.0.4758\n",
      "Driver [C:\\Users\\Gulshan\\.wdm\\drivers\\chromedriver\\win32\\98.0.4758.102\\chromedriver.exe] found in cache\n"
     ]
    }
   ],
   "source": [
    "# Login\n",
    "driver = webdriver.Chrome(ChromeDriverManager().install())\n",
    "driver.get('https://www.linkedin.com/login')\n",
    "driver.find_element_by_id('username').send_keys(linkedin_username)\n",
    "driver.find_element_by_id('password').send_keys(linkedin_password)\n",
    "driver.find_element_by_xpath('//*[@type=\"submit\"]').click()\n",
    "time.sleep(10)\n",
    "#name = driver.find_elements_by_class_name('profile-rail-card__actor-link')[0].text.replace(' ', '')"
   ]
  },
  {
   "cell_type": "code",
   "execution_count": 12,
   "id": "fa3f6ca8-25fa-4c79-81b3-a314eaf1dfa3",
   "metadata": {},
   "outputs": [],
   "source": [
    "# CSV file loging\n",
    "#file_name = name + '_' + parameters.file_name.capitalize()\n",
    "file_exists =  os.path.isfile(file_name)\n",
    "writer = csv.writer(open(file_name, 'a'))\n",
    "if not file_exists: writer.writerow(['Connection Summary'])"
   ]
  },
  {
   "cell_type": "code",
   "execution_count": 13,
   "id": "823421ef-ff64-47e2-90d4-aa3e51ae2fde",
   "metadata": {},
   "outputs": [
    {
     "name": "stdout",
     "output_type": "stream",
     "text": [
      "\n",
      "INFO: Checking on page 1\n",
      "INFO: 10 connections found on page 1\n",
      "1 ) SENT: GANESH SWAMI\n",
      "2 ) SENT: Prashanth Ganta\n",
      "3 ) SENT: Raj B.\n",
      "4 ) SENT: bhupender rawat\n",
      "5 ) SENT: Kartikeya Chauhan\n",
      "6 ) SENT: Mukund Tolay\n",
      "7 ) SENT: Monali Vijayvargiya\n",
      "8 ) SENT: Upmanyu Sharma\n",
      "9 ) SENT: gaurav khandelwal\n",
      "10 ) SENT: Tushar Tekode\n",
      "\n",
      "INFO: Checking on page 2\n",
      "INFO: 10 connections found on page 2\n",
      "1 ) SENT: RAJAN VISHWAKARMA\n",
      "2 ) SENT: Ashutosh Punia\n",
      "3 ) SENT: Sanket Gadewar\n",
      "4 ) SENT: Vimlesh Vaishanav\n",
      "5 ) CANT: Piyush Bagani\n",
      "6 ) CANT: Firdosh Ansari\n",
      "7 ) SENT: Mehar Preet Singh\n",
      "8 ) SENT: Tarun Mittal\n",
      "9 ) SENT: Subhadeep Banerjee\n",
      "10 ) CANT: Shivanand N Uppar\n",
      "\n",
      "INFO: Checking on page 3\n",
      "INFO: 10 connections found on page 3\n",
      "1 ) SENT: Vicky Gupta\n",
      "2 ) SENT: Raj Gupta\n",
      "3 ) SENT: Akanksha Bhatt\n",
      "4 ) SENT: Atul G.\n",
      "5 ) SENT: Status is reachable\n",
      "6 ) SENT: Jayveersinh Solanki\n",
      "7 ) CANT: Jatin Lodhi\n",
      "8 ) CANT: Ashish P.\n"
     ]
    },
    {
     "ename": "KeyboardInterrupt",
     "evalue": "",
     "output_type": "error",
     "traceback": [
      "\u001b[1;31m---------------------------------------------------------------------------\u001b[0m",
      "\u001b[1;31mKeyboardInterrupt\u001b[0m                         Traceback (most recent call last)",
      "\u001b[1;32m~\\AppData\\Local\\Temp/ipykernel_19732/3909929061.py\u001b[0m in \u001b[0;36m<module>\u001b[1;34m\u001b[0m\n\u001b[0;32m      1\u001b[0m \u001b[1;31m# Search\u001b[0m\u001b[1;33m\u001b[0m\u001b[1;33m\u001b[0m\u001b[1;33m\u001b[0m\u001b[0m\n\u001b[1;32m----> 2\u001b[1;33m \u001b[0msearch_and_send_request\u001b[0m\u001b[1;33m(\u001b[0m\u001b[0mkeywords\u001b[0m\u001b[1;33m=\u001b[0m\u001b[0mkeywords\u001b[0m\u001b[1;33m,\u001b[0m \u001b[0mtill_page\u001b[0m\u001b[1;33m=\u001b[0m\u001b[0mtill_page\u001b[0m\u001b[1;33m,\u001b[0m \u001b[0mwriter\u001b[0m\u001b[1;33m=\u001b[0m\u001b[0mwriter\u001b[0m\u001b[1;33m)\u001b[0m\u001b[1;33m\u001b[0m\u001b[1;33m\u001b[0m\u001b[0m\n\u001b[0m\u001b[0;32m      3\u001b[0m \u001b[1;33m\u001b[0m\u001b[0m\n\u001b[0;32m      4\u001b[0m \u001b[1;31m# Close browser\u001b[0m\u001b[1;33m\u001b[0m\u001b[1;33m\u001b[0m\u001b[1;33m\u001b[0m\u001b[0m\n\u001b[0;32m      5\u001b[0m \u001b[0mdriver\u001b[0m\u001b[1;33m.\u001b[0m\u001b[0mquit\u001b[0m\u001b[1;33m(\u001b[0m\u001b[1;33m)\u001b[0m\u001b[1;33m\u001b[0m\u001b[1;33m\u001b[0m\u001b[0m\n",
      "\u001b[1;32m~\\AppData\\Local\\Temp/ipykernel_19732/2414638218.py\u001b[0m in \u001b[0;36msearch_and_send_request\u001b[1;34m(keywords, till_page, writer)\u001b[0m\n\u001b[0;32m     25\u001b[0m                     \u001b[0mtime\u001b[0m\u001b[1;33m.\u001b[0m\u001b[0msleep\u001b[0m\u001b[1;33m(\u001b[0m\u001b[1;36m5\u001b[0m\u001b[1;33m)\u001b[0m\u001b[1;33m\u001b[0m\u001b[1;33m\u001b[0m\u001b[0m\n\u001b[0;32m     26\u001b[0m                     \u001b[0mconnection\u001b[0m\u001b[1;33m.\u001b[0m\u001b[0mclick\u001b[0m\u001b[1;33m(\u001b[0m\u001b[1;33m)\u001b[0m\u001b[1;33m\u001b[0m\u001b[1;33m\u001b[0m\u001b[0m\n\u001b[1;32m---> 27\u001b[1;33m                     \u001b[0mtime\u001b[0m\u001b[1;33m.\u001b[0m\u001b[0msleep\u001b[0m\u001b[1;33m(\u001b[0m\u001b[1;36m5\u001b[0m\u001b[1;33m)\u001b[0m\u001b[1;33m\u001b[0m\u001b[1;33m\u001b[0m\u001b[0m\n\u001b[0m\u001b[0;32m     28\u001b[0m                     \u001b[1;32mif\u001b[0m \u001b[0mdriver\u001b[0m\u001b[1;33m.\u001b[0m\u001b[0mfind_elements_by_class_name\u001b[0m\u001b[1;33m(\u001b[0m\u001b[1;34m'artdeco-button--primary'\u001b[0m\u001b[1;33m)\u001b[0m\u001b[1;33m[\u001b[0m\u001b[1;36m0\u001b[0m\u001b[1;33m]\u001b[0m\u001b[1;33m.\u001b[0m\u001b[0mis_enabled\u001b[0m\u001b[1;33m(\u001b[0m\u001b[1;33m)\u001b[0m\u001b[1;33m:\u001b[0m\u001b[1;33m\u001b[0m\u001b[1;33m\u001b[0m\u001b[0m\n\u001b[0;32m     29\u001b[0m                         \u001b[0mdriver\u001b[0m\u001b[1;33m.\u001b[0m\u001b[0mfind_elements_by_class_name\u001b[0m\u001b[1;33m(\u001b[0m\u001b[1;34m'artdeco-button--primary'\u001b[0m\u001b[1;33m)\u001b[0m\u001b[1;33m[\u001b[0m\u001b[1;36m0\u001b[0m\u001b[1;33m]\u001b[0m\u001b[1;33m.\u001b[0m\u001b[0mclick\u001b[0m\u001b[1;33m(\u001b[0m\u001b[1;33m)\u001b[0m\u001b[1;33m\u001b[0m\u001b[1;33m\u001b[0m\u001b[0m\n",
      "\u001b[1;31mKeyboardInterrupt\u001b[0m: "
     ]
    }
   ],
   "source": [
    "# Search\n",
    "search_and_send_request(keywords=keywords, till_page=till_page, writer=writer)\n",
    "\n",
    "# Close browser\n",
    "driver.quit()"
   ]
  },
  {
   "cell_type": "code",
   "execution_count": null,
   "id": "c31428cd-946a-4684-b96b-6512aaa3600c",
   "metadata": {},
   "outputs": [],
   "source": []
  },
  {
   "cell_type": "code",
   "execution_count": null,
   "id": "4f5ac0bf-5554-44c2-b880-275d01561479",
   "metadata": {},
   "outputs": [],
   "source": []
  },
  {
   "cell_type": "code",
   "execution_count": null,
   "id": "fac6e382-b3d5-4192-8615-b85679659419",
   "metadata": {},
   "outputs": [],
   "source": []
  },
  {
   "cell_type": "code",
   "execution_count": null,
   "id": "35d0eecb-1f75-474c-99fc-2634badf74d6",
   "metadata": {},
   "outputs": [],
   "source": []
  },
  {
   "cell_type": "code",
   "execution_count": null,
   "id": "3b22c059-7c67-486a-b299-eaf0d2955358",
   "metadata": {},
   "outputs": [],
   "source": []
  },
  {
   "cell_type": "code",
   "execution_count": null,
   "id": "27308ba9-27b5-4333-bd15-97398705437e",
   "metadata": {},
   "outputs": [],
   "source": []
  },
  {
   "cell_type": "code",
   "execution_count": null,
   "id": "0653a3a0-2c6a-4127-8db7-362a0a7e94ff",
   "metadata": {},
   "outputs": [],
   "source": []
  }
 ],
 "metadata": {
  "kernelspec": {
   "display_name": "Python 3 (ipykernel)",
   "language": "python",
   "name": "python3"
  },
  "language_info": {
   "codemirror_mode": {
    "name": "ipython",
    "version": 3
   },
   "file_extension": ".py",
   "mimetype": "text/x-python",
   "name": "python",
   "nbconvert_exporter": "python",
   "pygments_lexer": "ipython3",
   "version": "3.7.3"
  }
 },
 "nbformat": 4,
 "nbformat_minor": 5
}
